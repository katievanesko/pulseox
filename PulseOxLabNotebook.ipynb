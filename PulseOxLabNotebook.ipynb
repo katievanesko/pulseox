{
 "cells": [
  {
   "cell_type": "markdown",
   "id": "1338cf8c",
   "metadata": {},
   "source": [
    "! /usr/bin/env python\n",
    "\n",
    "Script name: plotPulseOxData.py\n",
    "Copyright 2021 Neal Patwari\n",
    "\n",
    "# Purpose: \n",
    "1. Load fake data from Figure 1 of Sjoding \"Racial bias...\" 2020 paper.\n",
    "2. Build some detectors of hypoxemia (arterial oxygen saturation of <88%)from pulse oximetry reading.\n",
    "3. Calculate and plot the error performance\n",
    "\n",
    "#### Version History:\n",
    "Version 1.0:  Initial Release.  11 Oct 2021.\n",
    "License: see LICENSE.md"
   ]
  },
  {
   "cell_type": "code",
   "execution_count": 2,
   "id": "f2a3a680",
   "metadata": {},
   "outputs": [],
   "source": [
    "import numpy as np\n",
    "import matplotlib.pyplot as plt\n",
    "import matplotlib"
   ]
  },
  {
   "cell_type": "markdown",
   "id": "c1d4c4c5",
   "metadata": {},
   "source": [
    "These are commands I always use to format plots to have a larger font size and to refresh automatically as they're changed."
   ]
  },
  {
   "cell_type": "code",
   "execution_count": 3,
   "id": "a04293db",
   "metadata": {},
   "outputs": [
    {
     "data": {
      "text/plain": [
       "<matplotlib.pyplot._IonContext at 0x7f87ebb34dc0>"
      ]
     },
     "execution_count": 3,
     "metadata": {},
     "output_type": "execute_result"
    }
   ],
   "source": [
    "matplotlib.rc('xtick', labelsize=16) \n",
    "matplotlib.rc('ytick', labelsize=16) \n",
    "plt.ion()"
   ]
  },
  {
   "cell_type": "markdown",
   "id": "6ecb047f",
   "metadata": {},
   "source": [
    "## Our two hypotheses:\n"
   ]
  },
  {
   "cell_type": "markdown",
   "id": "8ce68534",
   "metadata": {},
   "source": [
    "**H0:** the \"*normal*\",\n",
    "        Arterial Oxygen Saturation is >= 88.0\n"
   ]
  },
  {
   "cell_type": "markdown",
   "id": "bd0f2568",
   "metadata": {},
   "source": [
    "**H1:** the \"*abnormal*\", what we want to be alarmed about\n",
    "        Arterial Oxygen Saturation is < 88.0"
   ]
  },
  {
   "cell_type": "markdown",
   "id": "e11ccd64",
   "metadata": {},
   "source": [
    "### Load data: \n",
    "There are two files separated by race.\n",
    "I use _w and _b for the white and Black patient data, respectively"
   ]
  },
  {
   "cell_type": "code",
   "execution_count": 1,
   "id": "6c425946",
   "metadata": {},
   "outputs": [
    {
     "ename": "NameError",
     "evalue": "name 'np' is not defined",
     "output_type": "error",
     "traceback": [
      "\u001b[0;31m---------------------------------------------------------------------------\u001b[0m",
      "\u001b[0;31mNameError\u001b[0m                                 Traceback (most recent call last)",
      "\u001b[0;32m/var/folders/r3/s8mzg6h552d4km9f_f17k75w0000gn/T/ipykernel_80514/4228021755.py\u001b[0m in \u001b[0;36m<module>\u001b[0;34m\u001b[0m\n\u001b[0;32m----> 1\u001b[0;31m \u001b[0mdata_w\u001b[0m \u001b[0;34m=\u001b[0m \u001b[0mnp\u001b[0m\u001b[0;34m.\u001b[0m\u001b[0mloadtxt\u001b[0m\u001b[0;34m(\u001b[0m\u001b[0;34m\"oxygenation_w.csv\"\u001b[0m\u001b[0;34m,\u001b[0m \u001b[0mdelimiter\u001b[0m\u001b[0;34m=\u001b[0m\u001b[0;34m', '\u001b[0m\u001b[0;34m,\u001b[0m \u001b[0mcomments\u001b[0m\u001b[0;34m=\u001b[0m\u001b[0;34m'#'\u001b[0m\u001b[0;34m)\u001b[0m\u001b[0;34m\u001b[0m\u001b[0;34m\u001b[0m\u001b[0m\n\u001b[0m\u001b[1;32m      2\u001b[0m \u001b[0mdata_b\u001b[0m \u001b[0;34m=\u001b[0m \u001b[0mnp\u001b[0m\u001b[0;34m.\u001b[0m\u001b[0mloadtxt\u001b[0m\u001b[0;34m(\u001b[0m\u001b[0;34m\"oxygenation_b.csv\"\u001b[0m\u001b[0;34m,\u001b[0m \u001b[0mdelimiter\u001b[0m\u001b[0;34m=\u001b[0m\u001b[0;34m', '\u001b[0m\u001b[0;34m,\u001b[0m \u001b[0mcomments\u001b[0m\u001b[0;34m=\u001b[0m\u001b[0;34m'#'\u001b[0m\u001b[0;34m)\u001b[0m\u001b[0;34m\u001b[0m\u001b[0;34m\u001b[0m\u001b[0m\n",
      "\u001b[0;31mNameError\u001b[0m: name 'np' is not defined"
     ]
    }
   ],
   "source": [
    "data_w = np.loadtxt(\"oxygenation_w.csv\", delimiter=', ', comments='#')\n",
    "data_b = np.loadtxt(\"oxygenation_b.csv\", delimiter=', ', comments='#')"
   ]
  },
  {
   "cell_type": "markdown",
   "id": "746f8978",
   "metadata": {},
   "source": [
    "The 0th column is the pulse ox value.\n",
    "The 1st column is the arterial oxygen saturation.  \n",
    "  We take the arterial Ox Sat as the \"truth\" because it is the \"gold standard\"\n",
    "  for monitoring of oxygen saturation in the blood.\n",
    "Each row is one patient.  \n"
   ]
  },
  {
   "cell_type": "code",
   "execution_count": null,
   "id": "b2b85bf8",
   "metadata": {},
   "outputs": [],
   "source": [
    "pulseOx_w = data_w[:,0]\n",
    "arterOx_w = data_w[:,1]\n",
    "pulseOx_b = data_b[:,0]\n",
    "arterOx_b = data_b[:,1]"
   ]
  },
  {
   "cell_type": "markdown",
   "id": "b8096cba",
   "metadata": {},
   "source": [
    "Plot the data"
   ]
  },
  {
   "cell_type": "code",
   "execution_count": null,
   "id": "90750500",
   "metadata": {},
   "outputs": [],
   "source": [
    "plt.figure(1)\n",
    "plt.clf()\n",
    "plt.subplot(1,2,1)  # Subplot with 1 row, 2 columns, currently plotting into #1.\n",
    "plt.plot(pulseOx_w, arterOx_w, 'rx', label=\"White\", linewidth=2)\n",
    "plt.grid('on')\n",
    "plt.ylim([68,100])  # Have a uniform y limits for both subplots.\n",
    "plt.xlabel('Pulse Ox Meast (%)', fontsize=16)\n",
    "plt.ylabel('Arterial Ox Saturation (%)', fontsize=16)\n",
    "plt.legend(fontsize=16)\n",
    "\n",
    "plt.subplot(1,2,2)  # Subplot with 1 row, 2 columns, currently plotting into #2.\n",
    "plt.plot(pulseOx_b, arterOx_b, 'bx', label=\"Black\", linewidth=2)\n",
    "plt.xlabel('Pulse Ox Meast (%)', fontsize=16)\n",
    "plt.grid('on')\n",
    "plt.ylim([68,100])  # Have a uniform y limits for both subplots.\n",
    "plt.legend(fontsize=16)\n"
   ]
  },
  {
   "cell_type": "markdown",
   "id": "e457dbb2",
   "metadata": {},
   "source": [
    "Our two hypotheses:\n",
    "H0: the \"normal\"\n",
    "    Arterial Oxygen Saturation is >= 88.0\n",
    "H1: the \"abnormal\", what we want to be alarmed about\n",
    "    Arterial Oxygen Saturation is < 88.0\n",
    "\n",
    "As an example, let's find the probability that a white patient \n",
    "has arterial oxygen saturation < 88.0\n",
    "\n",
    "Here's a python way of finding the indices of the arterOx_w vector where its value < 88.0.\n",
    "the np.where() returns (strangely) a numpy array, length 1, with the first element being a list\n",
    "of the indices.  I take care of that by simply requesting the first element of the numpy array."
   ]
  },
  {
   "cell_type": "code",
   "execution_count": null,
   "id": "51b3b208",
   "metadata": {},
   "outputs": [],
   "source": [
    "H1_w_indices   = np.where(arterOx_w < 88.0)[0]\n"
   ]
  },
  {
   "cell_type": "markdown",
   "id": "24627d62",
   "metadata": {},
   "source": [
    "We want the probability of the arterial ox sat measurement being < 88.0, ie., the proportion:\n",
    "I use *1.0 to make sure that the division is floating point.  This is not necessary in Python 3\n",
    "but I do this to be more backwards compatible."
   ]
  },
  {
   "cell_type": "code",
   "execution_count": null,
   "id": "e2ea44e5",
   "metadata": {},
   "outputs": [],
   "source": [
    "prob_H1_w      = len(H1_w_indices)*1.0 / len(arterOx_w)\n",
    "\n",
    "print('The probability of H1 for white patients in this data set is ' + str(prob_H1_w))"
   ]
  },
  {
   "cell_type": "code",
   "execution_count": null,
   "id": "48e1d971",
   "metadata": {},
   "outputs": [],
   "source": []
  }
 ],
 "metadata": {
  "interpreter": {
   "hash": "dabfff034353c640ac45c2ae6ffa3ce41fceaea9276169cab9702c5d38d0b76f"
  },
  "kernelspec": {
   "display_name": "Python 3.8.12 64-bit ('CSE359': conda)",
   "name": "python3"
  },
  "language_info": {
   "codemirror_mode": {
    "name": "ipython",
    "version": 3
   },
   "file_extension": ".py",
   "mimetype": "text/x-python",
   "name": "python",
   "nbconvert_exporter": "python",
   "pygments_lexer": "ipython3",
   "version": "3.8.12"
  }
 },
 "nbformat": 4,
 "nbformat_minor": 5
}
